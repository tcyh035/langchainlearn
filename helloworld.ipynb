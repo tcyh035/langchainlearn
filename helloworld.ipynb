{
 "cells": [
  {
   "cell_type": "markdown",
   "id": "d4fd10ff",
   "metadata": {},
   "source": [
    "1. 获取大模型"
   ]
  },
  {
   "cell_type": "code",
   "execution_count": null,
   "id": "0bc2aa3b",
   "metadata": {
    "vscode": {
     "languageId": "plaintext"
    }
   },
   "outputs": [],
   "source": [
    "import dotenv\n",
    "import os\n",
    "from openai import OpenAI\n",
    "\n",
    "dotenv.load_dotenv()\n",
    "\n",
    "client = OpenAI(\n",
    "    api_key=os.getenv('DEEPSEEK_API_KEY1'),\n",
    "    base_url=os.getenv('DEEPSEEK_BASE_URL1'))\n",
    "\n",
    "response = client.chat.completions.create(\n",
    "    model=\"deepseek-chat\",\n",
    "    messages=[\n",
    "        {\"role\": \"system\", \"content\": \"You are a helpful assistant\"},\n",
    "        {\"role\": \"user\", \"content\": \"Hello\"},\n",
    "    ],\n",
    "    stream=False\n",
    ")\n",
    "\n",
    "print(response.choices[0].message.content)"
   ]
  }
 ],
 "metadata": {
  "language_info": {
   "name": "python"
  }
 },
 "nbformat": 4,
 "nbformat_minor": 5
}
